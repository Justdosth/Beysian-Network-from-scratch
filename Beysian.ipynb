{
  "nbformat": 4,
  "nbformat_minor": 0,
  "metadata": {
    "colab": {
      "name": "Beysian.ipynb",
      "provenance": []
    },
    "kernelspec": {
      "name": "python3",
      "display_name": "Python 3"
    },
    "language_info": {
      "name": "python"
    }
  },
  "cells": [
    {
      "cell_type": "code",
      "execution_count": 1,
      "metadata": {
        "id": "WDvzkVwxGCh5"
      },
      "outputs": [],
      "source": [
        "import numpy as np"
      ]
    },
    {
      "cell_type": "code",
      "source": [
        "class NaiveBayes:\n",
        "\n",
        "  def fit(self, X, y):\n",
        "    n_samples , n_features = X.shape\n",
        "    self._classes = np.unique(y)\n",
        "    n_classes = len(self._classes)\n",
        "\n",
        "    self._mean = np.zeros((n_classes,n_features), dtype=np.float64)\n",
        "    self._var = np.zeros((n_classes,n_features), dtype=np.float64)\n",
        "    self._priors = np.zeros(n_classes, dtype=np.float64)\n",
        "\n",
        "    for idx, c in enumerate(self._classes):\n",
        "      X_c = X[y==c]\n",
        "      self._mean[idx, :] = X_c.mean(axis=0)\n",
        "      self._var[idx, :] = X_c.var(axis=0)\n",
        "      self._priors[idx] = X_c.shape[0]/float(n_samples)\n",
        "\n",
        "  def predict(self,X):\n",
        "    y_pred = [self._predict(x) for x in X]\n",
        "    return np.array(y_pred)\n",
        "  \n",
        "  def _predict(self, x):\n",
        "    posteriors = []\n",
        "\n",
        "    for idx, c in enumerate(self._classes):\n",
        "      prior = np.log(self._priors[idx])\n",
        "      posterior = np.sum(np.log(self._pdf(idx,x)))\n",
        "      posterior = prior + posterior\n",
        "      posteriors.append(posterior)\n",
        "\n",
        "    return self._classes[np.argmax(posteriors)]\n",
        "\n",
        "  def _pdf(self, class_idx, x):\n",
        "    mean = self._mean[class_idx]\n",
        "    var = self._var[class_idx]\n",
        "    numerator = np.exp(- (x-mean)**2 / (2 * var))\n",
        "    denominator = np.sqrt(2 * np.pi * var)\n",
        "    return numerator / denominator\n"
      ],
      "metadata": {
        "id": "ejXFVeSVH9nQ"
      },
      "execution_count": 19,
      "outputs": []
    },
    {
      "cell_type": "code",
      "source": [
        "from sklearn.model_selection import train_test_split\n",
        "from sklearn import datasets"
      ],
      "metadata": {
        "id": "KlKwPos-NxPv"
      },
      "execution_count": 22,
      "outputs": []
    },
    {
      "cell_type": "code",
      "source": [
        "def accuracy(y_true, y_pred):\n",
        "  accuracy = np.sum(y_true==y_pred) / len(y_true)\n",
        "  return accuracy"
      ],
      "metadata": {
        "id": "sWBI3IhbOFF6"
      },
      "execution_count": 27,
      "outputs": []
    },
    {
      "cell_type": "code",
      "source": [
        "iris = datasets.load_iris()\n",
        "X = iris.data\n",
        "y = iris.target"
      ],
      "metadata": {
        "id": "o4IckdRMPQk-"
      },
      "execution_count": 5,
      "outputs": []
    },
    {
      "cell_type": "code",
      "source": [
        "X_train, X_test, y_train, y_test = train_test_split(X, y, test_size=0.2, random_state=123)"
      ],
      "metadata": {
        "id": "JEMb-5qUPTK1"
      },
      "execution_count": 31,
      "outputs": []
    },
    {
      "cell_type": "code",
      "source": [
        "nb = NaiveBayes()\n",
        "nb.fit(X_train,y_train)\n",
        "predictions = nb.predict(X_test)\n",
        "\n",
        "print('Naive Bayes accuracy on iris:', accuracy(y_test,predictions))"
      ],
      "metadata": {
        "colab": {
          "base_uri": "https://localhost:8080/"
        },
        "id": "NjSMJ5jNQ4m3",
        "outputId": "ff1fb541-c19c-47f1-900d-7be412ec2b22"
      },
      "execution_count": 32,
      "outputs": [
        {
          "output_type": "stream",
          "name": "stdout",
          "text": [
            "Naive Bayes accuracy on iris: 0.9666666666666667\n"
          ]
        }
      ]
    },
    {
      "cell_type": "code",
      "source": [
        ""
      ],
      "metadata": {
        "id": "fyz7vKWSSAtn"
      },
      "execution_count": null,
      "outputs": []
    }
  ]
}