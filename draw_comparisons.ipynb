{
  "nbformat": 4,
  "nbformat_minor": 0,
  "metadata": {
    "colab": {
      "name": "draw_comparisons.ipynb",
      "provenance": []
    },
    "kernelspec": {
      "name": "python3",
      "display_name": "Python 3"
    },
    "language_info": {
      "name": "python"
    },
    "accelerator": "GPU"
  },
  "cells": [
    {
      "cell_type": "code",
      "source": [
        "from collections import Counter\n",
        "import numpy as np"
      ],
      "metadata": {
        "id": "DA9kTH6mpjIW"
      },
      "execution_count": 2,
      "outputs": []
    },
    {
      "cell_type": "code",
      "source": [
        "def entropy(y):\n",
        "    hist = np.bincount(y)\n",
        "    ps = hist / len(y)\n",
        "    return -np.sum([p * np.log2(p) for p in ps if p > 0])"
      ],
      "metadata": {
        "id": "mcxLCQH3zjch"
      },
      "execution_count": 3,
      "outputs": []
    },
    {
      "cell_type": "code",
      "source": [
        "class Node:\n",
        "    def __init__(\n",
        "        self, feature=None, threshold=None, left=None, right=None, *, value=None\n",
        "    ):\n",
        "        self.feature = feature\n",
        "        self.threshold = threshold\n",
        "        self.left = left\n",
        "        self.right = right\n",
        "        self.value = value\n",
        "\n",
        "    def is_leaf_node(self):\n",
        "        return self.value is not None"
      ],
      "metadata": {
        "id": "mkpYwfYAzlql"
      },
      "execution_count": 4,
      "outputs": []
    },
    {
      "cell_type": "code",
      "source": [
        "def most_common_label(y):\n",
        "    counter = Counter(y)\n",
        "    most_common = counter.most_common(1)[0][0]\n",
        "    return most_common"
      ],
      "metadata": {
        "id": "tc0xOEQWz2-l"
      },
      "execution_count": 5,
      "outputs": []
    },
    {
      "cell_type": "code",
      "source": [
        "class DecisionTree:\n",
        "    def __init__(self, min_samples_split=2, max_depth=100, n_feats=None):\n",
        "        self.min_samples_split = min_samples_split\n",
        "        self.max_depth = max_depth\n",
        "        self.n_feats = n_feats\n",
        "        self.root = None\n",
        "\n",
        "    def fit(self, X, y):\n",
        "        self.n_feats = X.shape[1] if not self.n_feats else min(self.n_feats, X.shape[1])\n",
        "        self.root = self._grow_tree(X, y)\n",
        "\n",
        "    def predict(self, X):\n",
        "        return np.array([self._traverse_tree(x, self.root) for x in X])\n",
        "\n",
        "    def _grow_tree(self, X, y, depth=0):\n",
        "        n_samples, n_features = X.shape\n",
        "        n_labels = len(np.unique(y))\n",
        "\n",
        "        # stopping criteria\n",
        "        if (\n",
        "            depth >= self.max_depth\n",
        "            or n_labels == 1\n",
        "            or n_samples < self.min_samples_split\n",
        "        ):\n",
        "            leaf_value = most_common_label(y)\n",
        "            return Node(value=leaf_value)\n",
        "\n",
        "        feat_idxs = np.random.choice(n_features, self.n_feats, replace=False)\n",
        "\n",
        "        # greedily select the best split according to information gain\n",
        "        best_feat, best_thresh = self._best_criteria(X, y, feat_idxs)\n",
        "\n",
        "        # grow the children that result from the split\n",
        "        left_idxs, right_idxs = self._split(X[:, best_feat], best_thresh)\n",
        "        left = self._grow_tree(X[left_idxs, :], y[left_idxs], depth + 1)\n",
        "        right = self._grow_tree(X[right_idxs, :], y[right_idxs], depth + 1)\n",
        "        return Node(best_feat, best_thresh, left, right)\n",
        "\n",
        "    def _best_criteria(self, X, y, feat_idxs):\n",
        "        best_gain = -1\n",
        "        split_idx, split_thresh = None, None\n",
        "        for feat_idx in feat_idxs:\n",
        "            X_column = X[:, feat_idx]\n",
        "            thresholds = np.unique(X_column)\n",
        "            for threshold in thresholds:\n",
        "                gain = self._information_gain(y, X_column, threshold)\n",
        "\n",
        "                if gain > best_gain:\n",
        "                    best_gain = gain\n",
        "                    split_idx = feat_idx\n",
        "                    split_thresh = threshold\n",
        "\n",
        "        return split_idx, split_thresh\n",
        "\n",
        "    def _information_gain(self, y, X_column, split_thresh):\n",
        "        # parent loss\n",
        "        parent_entropy = entropy(y)\n",
        "\n",
        "        # generate split\n",
        "        left_idxs, right_idxs = self._split(X_column, split_thresh)\n",
        "\n",
        "        if len(left_idxs) == 0 or len(right_idxs) == 0:\n",
        "            return 0\n",
        "\n",
        "        # compute the weighted avg. of the loss for the children\n",
        "        n = len(y)\n",
        "        n_l, n_r = len(left_idxs), len(right_idxs)\n",
        "        e_l, e_r = entropy(y[left_idxs]), entropy(y[right_idxs])\n",
        "        child_entropy = (n_l / n) * e_l + (n_r / n) * e_r\n",
        "\n",
        "        # information gain is difference in loss before vs. after split\n",
        "        ig = parent_entropy - child_entropy\n",
        "        return ig\n",
        "\n",
        "    def _split(self, X_column, split_thresh):\n",
        "        left_idxs = np.argwhere(X_column <= split_thresh).flatten()\n",
        "        right_idxs = np.argwhere(X_column > split_thresh).flatten()\n",
        "        return left_idxs, right_idxs\n",
        "\n",
        "    def _traverse_tree(self, x, node):\n",
        "        if node.is_leaf_node():\n",
        "            return node.value\n",
        "\n",
        "        if x[node.feature] <= node.threshold:\n",
        "            return self._traverse_tree(x, node.left)\n",
        "        return self._traverse_tree(x, node.right)\n"
      ],
      "metadata": {
        "id": "e8Xk7VRFzo6W"
      },
      "execution_count": 6,
      "outputs": []
    },
    {
      "cell_type": "code",
      "source": [
        "def bootstrap_sample(X, y):\n",
        "    n_samples = X.shape[0]\n",
        "    idxs = np.random.choice(n_samples, n_samples, replace=True)\n",
        "    return X[idxs], y[idxs]"
      ],
      "metadata": {
        "id": "_C7UAYByzwxc"
      },
      "execution_count": 7,
      "outputs": []
    },
    {
      "cell_type": "code",
      "source": [
        "class RandomForest:\n",
        "    def __init__(self, n_trees=10, min_samples_split=2, max_depth=100, n_feats=None):\n",
        "        self.n_trees = n_trees\n",
        "        self.min_samples_split = min_samples_split\n",
        "        self.max_depth = max_depth\n",
        "        self.n_feats = n_feats\n",
        "        self.trees = []\n",
        "\n",
        "    def fit(self, X, y):\n",
        "        self.trees = []\n",
        "        for _ in range(self.n_trees):\n",
        "            tree = DecisionTree(\n",
        "                min_samples_split=self.min_samples_split,\n",
        "                max_depth=self.max_depth,\n",
        "                n_feats=self.n_feats,\n",
        "            )\n",
        "            X_samp, y_samp = bootstrap_sample(X, y)\n",
        "            tree.fit(X_samp, y_samp)\n",
        "            self.trees.append(tree)\n",
        "\n",
        "    def predict(self, X):\n",
        "        tree_preds = np.array([tree.predict(X) for tree in self.trees])\n",
        "        tree_preds = np.swapaxes(tree_preds, 0, 1)\n",
        "        y_pred = [most_common_label(tree_pred) for tree_pred in tree_preds]\n",
        "        return np.array(y_pred)"
      ],
      "metadata": {
        "id": "29jXpjZrz762"
      },
      "execution_count": 8,
      "outputs": []
    },
    {
      "cell_type": "code",
      "source": [
        "def accuracy(y_true, y_pred):\n",
        "    accuracy = np.sum(y_true == y_pred) / len(y_true)\n",
        "    return accuracy*100"
      ],
      "metadata": {
        "id": "kSfhGk2q0Nlm"
      },
      "execution_count": 9,
      "outputs": []
    },
    {
      "cell_type": "code",
      "source": [
        "from sklearn.model_selection import train_test_split\n",
        "from sklearn import datasets"
      ],
      "metadata": {
        "id": "UfGfTwsyMszN"
      },
      "execution_count": 10,
      "outputs": []
    },
    {
      "cell_type": "code",
      "source": [
        "data = datasets.load_iris()\n",
        "X = data.data\n",
        "y = data.target\n",
        "X_train, X_test, y_train, y_test = train_test_split(X, y, test_size=0.9, random_state=123)"
      ],
      "metadata": {
        "id": "3qEMacvFew9M"
      },
      "execution_count": 52,
      "outputs": []
    },
    {
      "cell_type": "code",
      "source": [
        "RandomForest_acc = []"
      ],
      "metadata": {
        "id": "zFb6h7bCfF31"
      },
      "execution_count": 13,
      "outputs": []
    },
    {
      "cell_type": "code",
      "source": [
        "clf = RandomForest(n_trees=3, max_depth=10)\n",
        "\n",
        "clf.fit(X_train, y_train)\n",
        "y_pred = clf.predict(X_test)\n",
        "acc = accuracy(y_test, y_pred)\n",
        "RandomForest_acc.append(acc)\n",
        "\n",
        "print(\"Accuracy of Random forest is:\", acc)"
      ],
      "metadata": {
        "colab": {
          "base_uri": "https://localhost:8080/"
        },
        "id": "52OhMSrj0Rnc",
        "outputId": "c45e7bbd-6f48-4d48-c98b-f12b62e305e3"
      },
      "execution_count": 53,
      "outputs": [
        {
          "output_type": "stream",
          "name": "stdout",
          "text": [
            "Accuracy of Random forest is: 85.92592592592592\n"
          ]
        }
      ]
    },
    {
      "cell_type": "code",
      "source": [
        "class NaiveBayes:\n",
        "\n",
        "  def fit(self, X, y):\n",
        "    n_samples , n_features = X.shape\n",
        "    self._classes = np.unique(y)\n",
        "    n_classes = len(self._classes)\n",
        "\n",
        "    self._mean = np.zeros((n_classes,n_features), dtype=np.float64)\n",
        "    self._var = np.zeros((n_classes,n_features), dtype=np.float64)\n",
        "    self._priors = np.zeros(n_classes, dtype=np.float64)\n",
        "\n",
        "    for idx, c in enumerate(self._classes):\n",
        "      X_c = X[y==c]\n",
        "      self._mean[idx, :] = X_c.mean(axis=0)\n",
        "      self._var[idx, :] = X_c.var(axis=0)\n",
        "      self._priors[idx] = X_c.shape[0]/float(n_samples)\n",
        "\n",
        "  def predict(self,X):\n",
        "    y_pred = [self._predict(x) for x in X]\n",
        "    return np.array(y_pred)\n",
        "  \n",
        "  def _predict(self, x):\n",
        "    posteriors = []\n",
        "\n",
        "    for idx, c in enumerate(self._classes):\n",
        "      prior = np.log(self._priors[idx])\n",
        "      posterior = np.sum(np.log(self._pdf(idx,x)))\n",
        "      posterior = prior + posterior\n",
        "      posteriors.append(posterior)\n",
        "\n",
        "    return self._classes[np.argmax(posteriors)]\n",
        "\n",
        "  def _pdf(self, class_idx, x):\n",
        "    mean = self._mean[class_idx]\n",
        "    var = self._var[class_idx]\n",
        "    numerator = np.exp(- (x-mean)**2 / (2 * var))\n",
        "    denominator = np.sqrt(2 * np.pi * var)\n",
        "    return numerator / denominator\n",
        "  \n"
      ],
      "metadata": {
        "id": "MYrwr6ZYerJw"
      },
      "execution_count": 15,
      "outputs": []
    },
    {
      "cell_type": "code",
      "source": [
        "NaiveBayes_acc = []"
      ],
      "metadata": {
        "id": "gO2M6H1dfPq8"
      },
      "execution_count": 16,
      "outputs": []
    },
    {
      "cell_type": "code",
      "source": [
        "nb = NaiveBayes()\n",
        "nb.fit(X_train,y_train)\n",
        "predictions = nb.predict(X_test)\n",
        "NaiveBayes_acc.append(accuracy(y_test,predictions))\n",
        "\n",
        "print('Naive Bayes accuracy on iris:', accuracy(y_test,predictions))"
      ],
      "metadata": {
        "colab": {
          "base_uri": "https://localhost:8080/"
        },
        "id": "dJhjLhFlerkK",
        "outputId": "44106d9f-5667-46c4-94e7-74690b2e0c2b"
      },
      "execution_count": 54,
      "outputs": [
        {
          "output_type": "stream",
          "name": "stdout",
          "text": [
            "Naive Bayes accuracy on iris: 88.88888888888889\n"
          ]
        },
        {
          "output_type": "stream",
          "name": "stderr",
          "text": [
            "/usr/local/lib/python3.7/dist-packages/ipykernel_launcher.py:27: RuntimeWarning: divide by zero encountered in log\n"
          ]
        }
      ]
    },
    {
      "cell_type": "code",
      "source": [
        "class KNN:\n",
        "  def __init__(self, X, y, k):\n",
        "    self.X_train = X\n",
        "    self.y_train = y \n",
        "    self.k = k\n",
        "\n",
        "  def euclidean_distance(self, inst1, inst2):\n",
        "    distance = np.linalg.norm(inst1-inst2)\n",
        "    return distance\n",
        "  \n",
        "  def _get_k_neighbors(self, inst1):\n",
        "    distances = []\n",
        "    for inst2 in self.X_train:\n",
        "      distances.append(self.euclidean_distance(inst1,inst2))\n",
        "\n",
        "    distances = np.array(distances)\n",
        "    indices = np.argpartition(distances,self.k)\n",
        "    k_first_indices = indices[:self.k]\n",
        "    return k_first_indices\n",
        "\n",
        "  def predict_class(self,inst1):\n",
        "    knn_indices = self._get_k_neighbors(inst1)\n",
        "    knn_labels = []\n",
        "    for i in knn_indices:\n",
        "      knn_labels.append(self.y_train[i])\n",
        "    \n",
        "    occurences = np.bincount(knn_labels)\n",
        "    node = np.argmax(occurences)\n",
        "    return node\n",
        "\n",
        "  def get_accuracy(self, y_test, predictions):\n",
        "    correct = y_test==predictions\n",
        "    acc = (np.sum(correct) / y_test.shape[0]) * 100.0\n",
        "    return acc\n"
      ],
      "metadata": {
        "id": "MAtPUw_ffXgt"
      },
      "execution_count": 21,
      "outputs": []
    },
    {
      "cell_type": "code",
      "source": [
        "KNN_acc = []"
      ],
      "metadata": {
        "id": "-r4aaOtYfhCZ"
      },
      "execution_count": 19,
      "outputs": []
    },
    {
      "cell_type": "code",
      "source": [
        "K = [3]\n",
        "\n",
        "for k in K:\n",
        "  model = KNN(X_train, y_train, k)\n",
        "\n",
        "  preds = []\n",
        "  for inst in X_test:\n",
        "    preds.append(model.predict_class(inst))\n",
        "  acc = model.get_accuracy(y_test,preds)\n",
        "  KNN_acc.append(acc)\n",
        "  print(f'Accuracy for k = {k} is {acc}')"
      ],
      "metadata": {
        "colab": {
          "base_uri": "https://localhost:8080/"
        },
        "id": "dYqstQWBfa4G",
        "outputId": "c931a95f-62b5-46f0-eeb6-904ca626c7f8"
      },
      "execution_count": 55,
      "outputs": [
        {
          "output_type": "stream",
          "name": "stdout",
          "text": [
            "Accuracy for k = 3 is 89.62962962962962\n"
          ]
        }
      ]
    },
    {
      "cell_type": "code",
      "source": [
        "param = np.arange(0.1,1,0.1)"
      ],
      "metadata": {
        "id": "hv_0zHKjfl9_"
      },
      "execution_count": 60,
      "outputs": []
    },
    {
      "cell_type": "code",
      "source": [
        "import matplotlib.pyplot as plt\n",
        "KNN_acc = np.array(KNN_acc)\n",
        "NaiveBayes_acc = np.array(NaiveBayes_acc)\n",
        "RandomForest_acc = np.array(RandomForest_acc)"
      ],
      "metadata": {
        "id": "v_6CamNXf_zG"
      },
      "execution_count": 56,
      "outputs": []
    },
    {
      "cell_type": "code",
      "source": [
        "plt.plot(param,KNN_acc, label='knn')\n",
        "plt.plot(param,NaiveBayes_acc, label='NaiveBayes')\n",
        "plt.plot(param,RandomForest_acc, label='RandomForest')\n",
        "plt.xlabel(\"train-test-split\")\n",
        "plt.ylabel(\"accuracy on test data\")\n",
        "plt.legend()"
      ],
      "metadata": {
        "colab": {
          "base_uri": "https://localhost:8080/",
          "height": 297
        },
        "id": "7Q1Q7-VCgA-h",
        "outputId": "610915aa-cbfe-4c5d-c465-8eeb0e0f866b"
      },
      "execution_count": 68,
      "outputs": [
        {
          "output_type": "execute_result",
          "data": {
            "text/plain": [
              "<matplotlib.legend.Legend at 0x7f753e460e50>"
            ]
          },
          "metadata": {},
          "execution_count": 68
        },
        {
          "output_type": "display_data",
          "data": {
            "image/png": "[encoded data removed]",
            "text/plain": [
              "<Figure size 432x288 with 1 Axes>"
            ]
          },
          "metadata": {
            "needs_background": "light"
          }
        }
      ]
    },
    {
      "cell_type": "code",
      "source": [
        ""
      ],
      "metadata": {
        "id": "eL39fg0Cgy8m"
      },
      "execution_count": null,
      "outputs": []
    }
  ]
}