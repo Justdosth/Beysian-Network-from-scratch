{
  "nbformat": 4,
  "nbformat_minor": 0,
  "metadata": {
    "colab": {
      "name": "knn.ipynb",
      "provenance": []
    },
    "kernelspec": {
      "name": "python3",
      "display_name": "Python 3"
    },
    "language_info": {
      "name": "python"
    }
  },
  "cells": [
    {
      "cell_type": "code",
      "execution_count": 1,
      "metadata": {
        "id": "f2MkguIIGsd_"
      },
      "outputs": [],
      "source": [
        "import numpy as np\n",
        "from sklearn.model_selection import train_test_split\n",
        "from sklearn import datasets"
      ]
    },
    {
      "cell_type": "code",
      "source": [
        "iris = datasets.load_iris()\n",
        "X = iris.data\n",
        "y = iris.target\n",
        "X_train, X_test, y_train, y_test = train_test_split(X, y, test_size=0.2, random_state=123)"
      ],
      "metadata": {
        "id": "rRuWDG2pGymH"
      },
      "execution_count": 2,
      "outputs": []
    },
    {
      "cell_type": "code",
      "source": [
        "class KNN:\n",
        "  def __init__(self, X, y, k):\n",
        "    self.X_train = X\n",
        "    self.y_train = y \n",
        "    self.k = k\n",
        "\n",
        "  def euclidean_distance(self, inst1, inst2):\n",
        "    distance = np.linalg.norm(inst1-inst2)\n",
        "    return distance\n",
        "  \n",
        "  def _get_k_neighbors(self, inst1):\n",
        "    distances = []\n",
        "    for inst2 in self.X_train:\n",
        "      distances.append(self.euclidean_distance(inst1,inst2))\n",
        "\n",
        "    distances = np.array(distances)\n",
        "    indices = np.argpartition(distances,self.k)\n",
        "    k_first_indices = indices[:self.k]\n",
        "    return k_first_indices\n",
        "\n",
        "  def predict_class(self,inst1):\n",
        "    knn_indices = self._get_k_neighbors(inst1)\n",
        "    knn_labels = []\n",
        "    for i in knn_indices:\n",
        "      knn_labels.append(self.y_train[i])\n",
        "    \n",
        "    occurences = np.bincount(knn_labels)\n",
        "    node = np.argmax(occurences)\n",
        "    return node\n",
        "\n",
        "  def get_accuracy(self, y_test, predictions):\n",
        "    correct = y_test==predictions\n",
        "    acc = (np.sum(correct) / y_test.shape[0]) * 100.0\n",
        "    return acc\n"
      ],
      "metadata": {
        "id": "hooWZJcVHAXU"
      },
      "execution_count": 8,
      "outputs": []
    },
    {
      "cell_type": "code",
      "source": [
        "K = [1 , 5, 10]\n",
        "\n",
        "for k in K:\n",
        "  model = KNN(X_train, y_train, k)\n",
        "\n",
        "  preds = []\n",
        "  for inst in X_test:\n",
        "    preds.append(model.predict_class(inst))\n",
        "  acc = model.get_accuracy(y_test,preds)\n",
        "  print(f'Accuracy for k = {k} is {acc}')"
      ],
      "metadata": {
        "colab": {
          "base_uri": "https://localhost:8080/"
        },
        "id": "ekSzK4zIKF2D",
        "outputId": "d2f5e491-3344-4c86-8ef2-3afaa7e3fb86"
      },
      "execution_count": 9,
      "outputs": [
        {
          "output_type": "stream",
          "name": "stdout",
          "text": [
            "Accuracy for k = 1 is 90.0\n",
            "Accuracy for k = 5 is 96.66666666666667\n",
            "Accuracy for k = 10 is 93.33333333333333\n"
          ]
        }
      ]
    },
    {
      "cell_type": "code",
      "source": [
        ""
      ],
      "metadata": {
        "id": "h-bYULuWLFBB"
      },
      "execution_count": null,
      "outputs": []
    }
  ]
}